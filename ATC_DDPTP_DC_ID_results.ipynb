{
 "cells": [
  {
   "cell_type": "code",
   "execution_count": null,
   "id": "14c9891f",
   "metadata": {},
   "outputs": [],
   "source": [
    "import datetime\n",
    "import pickle\n",
    "import torch\n",
    "import os\n",
    "import torch.optim as optim\n",
    "import torch.nn as nn\n",
    "import torch.nn.functional as F\n",
    "import numpy as np\n",
    "import matplotlib.pyplot as plt\n",
    "from torch.utils.data import TensorDataset, DataLoader\n",
    "from matplotlib.pyplot import figure\n",
    "from model_definitions import GRU_submodel,Classnet\n",
    "from utils import get_ade,get_fde\n",
    "from PIL import Image\n",
    "\n",
    "torch.manual_seed(0)\n",
    "def seed_worker(worker_id):\n",
    "    worker_seed = torch.initial_seed() % 2**32\n",
    "    numpy.random.seed(worker_seed)\n",
    "    random.seed(worker_seed)\n",
    "torch.use_deterministic_algorithms(True)\n",
    "os.environ[\"CUBLAS_WORKSPACE_CONFIG\"] = \":4096:8\"\n",
    "torch.autograd.set_detect_anomaly(True)\n",
    "device = torch.device(\"cuda:0\" if torch.cuda.is_available() else \"cpu\")\n",
    "print(datetime.datetime.now())\n",
    "im = Image.open(\"./localization_grid.pgm\")"
   ]
  },
  {
   "cell_type": "code",
   "execution_count": null,
   "id": "3ef402b3",
   "metadata": {},
   "outputs": [],
   "source": [
    "class fullmodel(nn.Module):\n",
    "    def __init__(self,numrc,k,device,embed_dim,hidden_dim,dropout_rate,pred_len):\n",
    "        super().__init__()\n",
    "        self.classifier = Classnet(2,hidden_dim,RC_class_size=numrc)\n",
    "        self.classifier.load_state_dict(torch.load(\"./subnets/ATC_DDPTP_DC_ID_classnet.pth\"))\n",
    "        self.device = device\n",
    "        self.classifier.to(device)\n",
    "        self.classifier.eval()\n",
    "        self.submodel = nn.ModuleList()\n",
    "        for i in range(numrc):\n",
    "            temp = GRU_submodel(embed_dim,hidden_dim,dropout_rate,pred_len)\n",
    "            temp.load_state_dict(torch.load(\"./subnets/ATC_DDPTP_DC_ID_submodel_\"+str(i)+\".pth\"))\n",
    "            temp.to(device)\n",
    "            temp.eval()\n",
    "            self.submodel.append(temp)\n",
    "        self.k = k\n",
    "    def forward(self, x):\n",
    "        classprob = self.classifier(x)\n",
    "        #print(classprob)\n",
    "        prob,indx =  torch.topk(classprob, self.k)\n",
    "        #print(prob,indx)\n",
    "        out = []\n",
    "        #print(indx)\n",
    "        for i in indx[0]:\n",
    "            #print(i)\n",
    "            out.append(self.submodel[i](x))\n",
    "        out = torch.stack(out)[0]\n",
    "        return out"
   ]
  },
  {
   "cell_type": "code",
   "execution_count": null,
   "id": "a717aa60",
   "metadata": {},
   "outputs": [],
   "source": [
    "numrc=4\n",
    "k=1\n",
    "embed_dim = 128\n",
    "hidden_dim = 128\n",
    "dropout_rate = 0.5\n",
    "pred_len = 20"
   ]
  },
  {
   "cell_type": "code",
   "execution_count": null,
   "id": "92b3fcdb",
   "metadata": {
    "scrolled": true
   },
   "outputs": [],
   "source": [
    "net = fullmodel(numrc,k,device,embed_dim,hidden_dim,dropout_rate,pred_len)\n",
    "net.to(device)\n",
    "net.eval()"
   ]
  },
  {
   "cell_type": "code",
   "execution_count": null,
   "id": "34667ceb",
   "metadata": {},
   "outputs": [],
   "source": [
    "with open('datas/ATC_test_x.pickle', 'rb') as f:\n",
    "    x = pickle.load(f)\n",
    "with open('datas/ATC_test_y.pickle', 'rb') as f:\n",
    "    y = pickle.load(f)\n",
    "tensor_x = torch.Tensor(x)/100/10\n",
    "tensor_y = torch.Tensor(y)/100/10\n",
    "vdata = TensorDataset(tensor_x,tensor_y)\n",
    "allset = DataLoader(vdata,batch_size=1,shuffle=False,num_workers =4)\n",
    "accuADE = []\n",
    "accuFDE = []\n",
    "\n",
    "for i, data in enumerate(allset, 0):\n",
    "    inputs, labels = data[0].to(device), data[1].to(device)\n",
    "    output1 = net(inputs)\n",
    "    accuADE.append(get_ade(output1.cpu().detach().numpy(),labels.cpu().detach().numpy()))\n",
    "    accuFDE.append(get_fde(output1.cpu().detach().numpy(),labels.cpu().detach().numpy()))\n",
    "print('Final ADE: %.3f' %(np.mean(accuADE)))\n",
    "print('Final FDE: %.3f' %(np.mean(accuFDE)))"
   ]
  },
  {
   "cell_type": "code",
   "execution_count": null,
   "id": "cf97b8ca",
   "metadata": {},
   "outputs": [],
   "source": [
    "indx = 478\n",
    "\n",
    "inputs, labels = vdata[indx][0].to(device), vdata[indx][1].to(device)\n",
    "output1 = net(torch.unsqueeze(inputs,0))\n",
    "inp = inputs.cpu().detach().numpy()\n",
    "testest = output1.cpu().detach().numpy()\n",
    "testest2 = labels.cpu().detach().numpy()\n",
    "\n",
    "import matplotlib.pyplot as plt\n",
    "from matplotlib.pyplot import figure\n",
    "plt.figure(figsize=(16, 9))\n",
    "\n",
    "plt.scatter(testest[:,:,0][0],testest[:,:,1][0])\n",
    "plt.scatter(testest2[:,0],testest2[:,1])\n",
    "plt.scatter(inp[:,0],inp[:,1])\n",
    "plt.legend(['prediction',\"ground_truth\",\"observation\"])\n",
    "plt.axis([-45, 30, -20, 20])\n",
    "plt.imshow(im,\n",
    "           aspect='equal',\n",
    "           origin=\"upper\",\n",
    "           extent=[-60, 80, -40, 20],\n",
    "           vmin=0,\n",
    "           vmax=255,\n",
    "           cmap='gray')\n",
    "#plt.gca().invert_yaxis()"
   ]
  }
 ],
 "metadata": {
  "kernelspec": {
   "display_name": "Python [conda env:gpu6]",
   "language": "python",
   "name": "conda-env-gpu6-py"
  },
  "language_info": {
   "codemirror_mode": {
    "name": "ipython",
    "version": 3
   },
   "file_extension": ".py",
   "mimetype": "text/x-python",
   "name": "python",
   "nbconvert_exporter": "python",
   "pygments_lexer": "ipython3",
   "version": "3.9.4"
  }
 },
 "nbformat": 4,
 "nbformat_minor": 5
}
