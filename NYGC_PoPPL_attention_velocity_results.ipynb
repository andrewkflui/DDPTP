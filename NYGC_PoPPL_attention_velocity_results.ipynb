{
 "cells": [
  {
   "cell_type": "code",
   "execution_count": null,
   "id": "14c9891f",
   "metadata": {},
   "outputs": [],
   "source": [
    "import torch\n",
    "import torch.optim as optim\n",
    "import os\n",
    "\n",
    "import torch.nn as nn\n",
    "import torch.nn.functional as F\n",
    "import numpy as np\n",
    "from torch.utils.data import TensorDataset, DataLoader\n",
    "\n",
    "import pickle\n",
    "from model_definitions import GRU_Attention_submodel,Classnet\n",
    "from utils import get_ade,get_fde,image_to_world\n",
    "import datetime\n",
    "print(datetime.datetime.now())\n",
    "torch.use_deterministic_algorithms(True)\n",
    "os.environ[\"CUBLAS_WORKSPACE_CONFIG\"] = \":4096:8\"\n",
    "torch.manual_seed(0)\n",
    "def seed_worker(worker_id):\n",
    "    worker_seed = torch.initial_seed() % 2**32\n",
    "    numpy.random.seed(worker_seed)\n",
    "    random.seed(worker_seed)\n",
    "torch.autograd.set_detect_anomaly(True)\n",
    "device = torch.device(\"cuda:0\" if torch.cuda.is_available() else \"cpu\")\n",
    "from PIL import Image\n",
    "im = Image.open(\"./NYGC_ref.jpg\")"
   ]
  },
  {
   "cell_type": "code",
   "execution_count": null,
   "id": "91351b86",
   "metadata": {},
   "outputs": [],
   "source": [
    "class fullmodel(nn.Module):\n",
    "    def __init__(self,numrc,k,device,embed_dim,hidden_dim,dropout_rate,pred_len):\n",
    "        super().__init__()\n",
    "        self.classifier = Classnet(4,hidden_dim,RC_class_size=numrc)\n",
    "        self.classifier.load_state_dict(torch.load(\"./subnets/NYGC_PoPPL_velocity_classnet.pth\"))\n",
    "        self.device = device\n",
    "        self.classifier.to(device)\n",
    "        self.classifier.eval()\n",
    "        self.submodel = nn.ModuleList()\n",
    "        for i in range(numrc):\n",
    "            temp = GRU_Att_1Layer_model(embed_dim,hidden_dim,dropout_rate,pred_len,enc_input_dim=4)\n",
    "            temp.load_state_dict(torch.load(\"./subnets/NYGC_PoPPL_attention_velocity_submodel_\"+str(i)+\".pth\"))\n",
    "            temp.to(device)\n",
    "            temp.eval()\n",
    "            self.submodel.append(temp)\n",
    "        self.k = k\n",
    "    def forward(self, x):\n",
    "        classprob = self.classifier(x)\n",
    "        #print(classprob)\n",
    "        prob,indx =  torch.topk(classprob, self.k)\n",
    "        #print(prob,indx)\n",
    "        out = []\n",
    "        #print(indx)\n",
    "        for i in indx[0]:\n",
    "            #print(i)\n",
    "            out.append(self.submodel[i](x))\n",
    "        out = torch.stack(out)[0]\n",
    "        return out"
   ]
  },
  {
   "cell_type": "code",
   "execution_count": null,
   "id": "5a50304f",
   "metadata": {},
   "outputs": [],
   "source": [
    "numrc=6\n",
    "k=1\n",
    "embed_dim = 128\n",
    "hidden_dim = 128\n",
    "dropout_rate = 0.5\n",
    "pred_len = 20"
   ]
  },
  {
   "cell_type": "code",
   "execution_count": null,
   "id": "86b91715",
   "metadata": {
    "scrolled": true
   },
   "outputs": [],
   "source": [
    "net = fullmodel(numrc,k,device,embed_dim,hidden_dim,dropout_rate,pred_len)\n",
    "net.to(device)\n",
    "net.eval()"
   ]
  },
  {
   "cell_type": "code",
   "execution_count": null,
   "id": "34667ceb",
   "metadata": {},
   "outputs": [],
   "source": [
    "with open('datas/NYGC_velocity_test_x.pickle', 'rb') as f:\n",
    "    x = pickle.load(f)\n",
    "with open('datas/NYGC_velocity_test_x.pickle', 'rb') as f:\n",
    "    y = pickle.load(f)\n",
    "tensor_x = torch.Tensor(x)\n",
    "tensor_y = torch.tensor(y)\n",
    "datas = TensorDataset(tensor_x,tensor_y)\n",
    "allset = DataLoader(datas,batch_size=1,shuffle=False)\n",
    "\n",
    "accuADE = []\n",
    "accuFDE = []\n",
    "for i, data in enumerate(allset, 0):\n",
    "    inputs, labels = data[0].to(device), data[1].to(device)\n",
    "    \n",
    "    output1 = net(inputs)\n",
    "    labelshape = labels.cpu().detach().numpy().shape\n",
    "    outputshape = output1.cpu().detach().numpy().shape\n",
    "    labels_world_coords = image_to_world(labels.cpu().detach().numpy().reshape((-1,2))).reshape(labelshape) \n",
    "    output_world_coords = image_to_world(output1.cpu().detach().numpy().reshape((-1,2))).reshape(outputshape)\n",
    "    accuADE.append(get_ade(output_world_coords,labels_world_coords))\n",
    "    accuFDE.append(get_fde(output_world_coords,labels_world_coords))\n",
    "print('Final ADE: %.3f' %(np.mean(accuADE)/ 3.281))\n",
    "print('Final FDE: %.3f' %(np.mean(accuFDE)/ 3.281))"
   ]
  },
  {
   "cell_type": "code",
   "execution_count": null,
   "id": "c245b4d1",
   "metadata": {},
   "outputs": [],
   "source": []
  },
  {
   "cell_type": "code",
   "execution_count": null,
   "id": "8f9e50ba",
   "metadata": {},
   "outputs": [],
   "source": [
    "samplei = 0\n",
    "inp = inputs[samplei].cpu().detach().numpy()\n",
    "testest = output1[samplei].cpu().detach().numpy()\n",
    "testest2 = labels[samplei].cpu().detach().numpy()\n",
    "\n",
    "\n",
    "\n",
    "import matplotlib.pyplot as plt\n",
    "from matplotlib.pyplot import figure\n",
    "plt.figure(figsize=(16, 9))\n",
    "\n",
    "plt.scatter(testest[:,0],testest[:,1])\n",
    "plt.scatter(testest2[:,0],testest2[:,1],)\n",
    "plt.scatter(inp[:,0],inp[:,1])\n",
    "plt.legend(['prediction',\"ground_truth\",\"observation\"])\n",
    "plt.axis([0, 1920, 0, 1080])\n",
    "plt.gca().invert_yaxis()"
   ]
  },
  {
   "cell_type": "code",
   "execution_count": null,
   "id": "cf97b8ca",
   "metadata": {},
   "outputs": [],
   "source": [
    "indx = 2\n",
    "inputs, labels = datas[indx][0].to(device), datas[indx][1].to(device)\n",
    "output1 = net(torch.unsqueeze(inputs,0))\n",
    "inp = inputs.cpu().detach().numpy()\n",
    "testest = output1.cpu().detach().numpy()\n",
    "testest2 = labels.cpu().detach().numpy()\n",
    "\n",
    "\n",
    "\n",
    "import matplotlib.pyplot as plt\n",
    "from matplotlib.pyplot import figure\n",
    "plt.figure(figsize=(16, 9))\n",
    "\n",
    "plt.scatter(testest[:,:,0],testest[:,:,1])\n",
    "plt.scatter(testest2[:,0],testest2[:,1],)\n",
    "plt.scatter(inp[:,0],inp[:,1])\n",
    "plt.legend(['prediction',\"ground_truth\",\"observation\"])\n",
    "plt.axis([0, 1920, 0, 1080])\n",
    "plt.gca().invert_yaxis()"
   ]
  },
  {
   "cell_type": "code",
   "execution_count": null,
   "id": "dec77770",
   "metadata": {},
   "outputs": [],
   "source": []
  }
 ],
 "metadata": {
  "kernelspec": {
   "display_name": "Python [conda env:gpu6]",
   "language": "python",
   "name": "conda-env-gpu6-py"
  },
  "language_info": {
   "codemirror_mode": {
    "name": "ipython",
    "version": 3
   },
   "file_extension": ".py",
   "mimetype": "text/x-python",
   "name": "python",
   "nbconvert_exporter": "python",
   "pygments_lexer": "ipython3",
   "version": "3.9.4"
  }
 },
 "nbformat": 4,
 "nbformat_minor": 5
}
