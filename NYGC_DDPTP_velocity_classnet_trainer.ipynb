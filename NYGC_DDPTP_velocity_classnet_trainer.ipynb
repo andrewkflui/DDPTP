{
 "cells": [
  {
   "cell_type": "code",
   "execution_count": null,
   "id": "fd38aa6a",
   "metadata": {},
   "outputs": [],
   "source": [
    "import torch\n",
    "import torch.optim as optim\n",
    "import os\n",
    "import pickle\n",
    "import torch.nn as nn\n",
    "import numpy as np\n",
    "from torch.utils.data import TensorDataset, DataLoader\n",
    "from model_definitions import Classnet\n",
    "def seed_worker(worker_id):\n",
    "    worker_seed = torch.initial_seed() % 2**32\n",
    "    numpy.random.seed(worker_seed)\n",
    "    random.seed(worker_seed)\n",
    "torch.manual_seed(0)\n",
    "torch.use_deterministic_algorithms(True)\n",
    "torch.autograd.set_detect_anomaly(True)\n",
    "os.environ[\"CUBLAS_WORKSPACE_CONFIG\"] = \":4096:8\"\n",
    "device = torch.device(\"cuda:0\" if torch.cuda.is_available() else \"cpu\")"
   ]
  },
  {
   "cell_type": "code",
   "execution_count": null,
   "id": "11ae782f",
   "metadata": {},
   "outputs": [],
   "source": [
    "with open('datas/NYGC_DDPTP_velocity_x.pickle', 'rb') as f:\n",
    "    x = pickle.load(f)\n",
    "with open('datas/NYGC_DDPTP_velocity_class_y.pickle', 'rb') as f:\n",
    "    y = pickle.load(f)\n",
    "\n",
    "tensor_x = torch.Tensor(x)\n",
    "tensor_y = torch.tensor(y,dtype=torch.long)\n",
    "datas = TensorDataset(tensor_x,tensor_y)\n",
    "\n",
    "train_size = int(0.8 * len(datas))\n",
    "test_size = len(datas) - train_size\n",
    "#train_dataset, test_dataset = torch.utils.data.random_split(datas, [train_size, test_size], generator=torch.Generator().manual_seed(42))\n",
    "#train = DataLoader(train_dataset,batch_size=128,shuffle=True)\n",
    "#test = DataLoader(test_dataset,batch_size=128,shuffle=True)"
   ]
  },
  {
   "cell_type": "code",
   "execution_count": null,
   "id": "8bb94c1b",
   "metadata": {},
   "outputs": [],
   "source": [
    "batch_size = 128\n",
    "hidden_size = 128\n",
    "rc_class_size = 4\n",
    "input_dim = 4\n",
    "learning_rate = 0.001\n",
    "epochs = 3000"
   ]
  },
  {
   "cell_type": "code",
   "execution_count": null,
   "id": "55c544f4",
   "metadata": {},
   "outputs": [],
   "source": [
    "net = Classnet(input_dim,hidden_size,RC_class_size=rc_class_size)\n",
    "net.to(device)\n",
    "lossfn = nn.CrossEntropyLoss()\n",
    "optimizer = optim.RMSprop(net.parameters(), lr=learning_rate,alpha=0.9,eps=1e-7)"
   ]
  },
  {
   "cell_type": "code",
   "execution_count": null,
   "id": "68c45f74",
   "metadata": {
    "scrolled": true
   },
   "outputs": [],
   "source": [
    "for epoch in range(epochs):  # loop over the dataset multiple times\n",
    "    running_loss = 0.0\n",
    "    train_dataset, test_dataset = torch.utils.data.random_split(tdata, [train_size, test_size], generator=torch.Generator().manual_seed(epoch))\n",
    "    train = DataLoader(train_dataset,batch_size=batch_size,shuffle=False,pin_memory=True)\n",
    "    test = DataLoader(test_dataset,batch_size=batch_size,shuffle=False,pin_memory=True)\n",
    "    net.train()\n",
    "    running_loss = []\n",
    "    for i, data in enumerate(train, 0):\n",
    "        inputs, labels = data[0].to(device), data[1].to(device)\n",
    "        optimizer.zero_grad()\n",
    "        output1 = net(inputs)\n",
    "        loss = lossfn(output1, labels)\n",
    "        loss.backward()\n",
    "        optimizer.step()\n",
    "        running_loss.append(loss.item())\n",
    "    print('[%d, %5d] loss: %.3f' %(epoch + 1, i + 1, np.mean(running_loss)))\n",
    "    running_loss = []\n",
    "    net.eval()\n",
    "    correct = 0\n",
    "    total = 0\n",
    "    for i, data in enumerate(test, 0):\n",
    "        inputs, labels = data[0].to(device), data[1].to(device)\n",
    "        output1 = net(inputs)\n",
    "        _, predictions = torch.max(output1, 1)\n",
    "        for label, prediction in zip(labels, predictions):\n",
    "            if label == prediction:\n",
    "                correct += 1\n",
    "            total += 1\n",
    "    print('Accuracy of the network: %d %%' % (100 * correct / total))"
   ]
  },
  {
   "cell_type": "code",
   "execution_count": null,
   "id": "7e0da136",
   "metadata": {},
   "outputs": [],
   "source": [
    "torch.save(net.state_dict(), \"./subnets/NYGC_DDPTP_velocity_classnet.pth\")"
   ]
  },
  {
   "cell_type": "code",
   "execution_count": null,
   "id": "67765c76",
   "metadata": {},
   "outputs": [],
   "source": []
  }
 ],
 "metadata": {
  "kernelspec": {
   "display_name": "Python [conda env:gpu6]",
   "language": "python",
   "name": "conda-env-gpu6-py"
  },
  "language_info": {
   "codemirror_mode": {
    "name": "ipython",
    "version": 3
   },
   "file_extension": ".py",
   "mimetype": "text/x-python",
   "name": "python",
   "nbconvert_exporter": "python",
   "pygments_lexer": "ipython3",
   "version": "3.9.4"
  }
 },
 "nbformat": 4,
 "nbformat_minor": 5
}
